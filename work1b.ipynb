{
 "cells": [
  {
   "cell_type": "code",
   "execution_count": 2,
   "metadata": {},
   "outputs": [
    {
     "data": {
      "text/html": [
       "\n",
       "        <iframe\n",
       "            width=\"100%\"\n",
       "            height=\"650\"\n",
       "            src=\"http://127.0.0.1:8050/\"\n",
       "            frameborder=\"0\"\n",
       "            allowfullscreen\n",
       "            \n",
       "        ></iframe>\n",
       "        "
      ],
      "text/plain": [
       "<IPython.lib.display.IFrame at 0x282bad3ed90>"
      ]
     },
     "metadata": {},
     "output_type": "display_data"
    }
   ],
   "source": [
    "import pandas as pd\n",
    "import dash\n",
    "import dash_core_components as dcc\n",
    "import dash_html_components as html\n",
    "import plotly.graph_objects as go\n",
    "from dash.dependencies import Input, Output\n",
    "\n",
    "# Load and prepare data\n",
    "df = pd.read_csv('dpt2020.csv', sep=';')\n",
    "df['annais'] = pd.to_numeric(df['annais'], errors='coerce').astype('Int64')\n",
    "df = df[(df['annais'] >= 1900) & (df['annais'] <= 2020)]\n",
    "\n",
    "# Group by year and name and sum the birth counts\n",
    "grouped_df = df.groupby(['annais', 'preusuel'])['nombre'].sum().reset_index()\n",
    "\n",
    "# Function to get the top 15 names per year\n",
    "def get_top_15(df):\n",
    "    top_15 = df.sort_values(by='nombre', ascending=False).groupby('annais').head(15)\n",
    "    return top_15\n",
    "\n",
    "# Apply function to get the top 15 names per year\n",
    "top_15_df = get_top_15(grouped_df)\n",
    "\n",
    "# Pivot the data for the heatmap\n",
    "heatmap_data = top_15_df.pivot(index='preusuel', columns='annais', values='nombre').fillna(0)\n",
    "\n",
    "# Initialize Dash app\n",
    "app = dash.Dash(__name__)\n",
    "\n",
    "# Define app layout\n",
    "app.layout = html.Div([\n",
    "    html.H1('Top 15 Most Popular Names Each Year (1900-2020)', style={'text-align': 'center'}),\n",
    "    dcc.Graph(id='heatmap',\n",
    "              figure={\n",
    "                  'data': [go.Heatmap(\n",
    "                      z=heatmap_data.values,\n",
    "                      x=heatmap_data.columns,\n",
    "                      y=heatmap_data.index,\n",
    "                      colorscale='Viridis')],\n",
    "                  'layout': go.Layout(\n",
    "                      xaxis=dict(title='Year'),\n",
    "                      yaxis=dict(title='Name'),\n",
    "                      margin=dict(l=150, r=10, t=40, b=30),\n",
    "                      height=800\n",
    "                  )\n",
    "              })\n",
    "])\n",
    "\n",
    "# Run the app\n",
    "if __name__ == '__main__':\n",
    "    app.run_server(debug=True)\n"
   ]
  },
  {
   "cell_type": "code",
   "execution_count": null,
   "metadata": {},
   "outputs": [],
   "source": []
  }
 ],
 "metadata": {
  "kernelspec": {
   "display_name": "Python 3",
   "language": "python",
   "name": "python3"
  },
  "language_info": {
   "codemirror_mode": {
    "name": "ipython",
    "version": 3
   },
   "file_extension": ".py",
   "mimetype": "text/x-python",
   "name": "python",
   "nbconvert_exporter": "python",
   "pygments_lexer": "ipython3",
   "version": "3.11.5"
  }
 },
 "nbformat": 4,
 "nbformat_minor": 2
}
